{
 "metadata": {
  "name": ""
 },
 "nbformat": 3,
 "nbformat_minor": 0,
 "worksheets": [
  {
   "cells": [
    {
     "cell_type": "code",
     "collapsed": false,
     "input": [
      "import numpy as np\n",
      "import pandas as pd\n",
      "import matplotlib.pyplot as plt\n",
      "\n",
      "filename = \"data.csv\"\n",
      "df = pd.read_csv(filename)\n",
      "df = df[df['shot_made_flag'].notnull()]"
     ],
     "language": "python",
     "metadata": {},
     "outputs": [
      {
       "metadata": {},
       "output_type": "pyout",
       "prompt_number": 6,
       "text": [
        "25697"
       ]
      }
     ],
     "prompt_number": 6
    },
    {
     "cell_type": "code",
     "collapsed": false,
     "input": [
      "s = df.groupby(['game_date', 'shot_type'])['shot_made_flag']"
     ],
     "language": "python",
     "metadata": {},
     "outputs": [],
     "prompt_number": 25
    },
    {
     "cell_type": "code",
     "collapsed": false,
     "input": [
      "print len(s)\n",
      "s.mean().sort_values()"
     ],
     "language": "python",
     "metadata": {},
     "outputs": [
      {
       "output_type": "stream",
       "stream": "stdout",
       "text": [
        "2997\n"
       ]
      },
      {
       "metadata": {},
       "output_type": "pyout",
       "prompt_number": 26,
       "text": [
        "game_date   shot_type     \n",
        "1996-11-03  2PT Field Goal    0.0\n",
        "2004-02-20  3PT Field Goal    0.0\n",
        "2004-03-03  3PT Field Goal    0.0\n",
        "2004-03-10  3PT Field Goal    0.0\n",
        "1999-04-07  3PT Field Goal    0.0\n",
        "2004-03-19  3PT Field Goal    0.0\n",
        "1999-04-06  3PT Field Goal    0.0\n",
        "2004-03-21  3PT Field Goal    0.0\n",
        "2004-04-06  3PT Field Goal    0.0\n",
        "2004-04-11  3PT Field Goal    0.0\n",
        "1999-04-03  3PT Field Goal    0.0\n",
        "2004-04-13  3PT Field Goal    0.0\n",
        "2004-04-23  3PT Field Goal    0.0\n",
        "1999-03-29  3PT Field Goal    0.0\n",
        "2004-04-25  3PT Field Goal    0.0\n",
        "2004-05-05  3PT Field Goal    0.0\n",
        "2004-05-13  3PT Field Goal    0.0\n",
        "2004-05-15  3PT Field Goal    0.0\n",
        "1999-03-24  3PT Field Goal    0.0\n",
        "2004-05-21  3PT Field Goal    0.0\n",
        "2004-05-23  3PT Field Goal    0.0\n",
        "2004-06-06  3PT Field Goal    0.0\n",
        "2004-06-10  3PT Field Goal    0.0\n",
        "2004-06-15  3PT Field Goal    0.0\n",
        "2004-11-09  3PT Field Goal    0.0\n",
        "1999-03-18  3PT Field Goal    0.0\n",
        "2004-11-13  3PT Field Goal    0.0\n",
        "1999-03-16  3PT Field Goal    0.0\n",
        "2004-11-17  3PT Field Goal    0.0\n",
        "2004-11-23  3PT Field Goal    0.0\n",
        "                             ... \n",
        "1997-01-05  3PT Field Goal    1.0\n",
        "1997-01-02  2PT Field Goal    1.0\n",
        "1996-12-21  2PT Field Goal    1.0\n",
        "2015-10-30  2PT Field Goal    1.0\n",
        "2001-03-06  3PT Field Goal    1.0\n",
        "2011-01-17  3PT Field Goal    1.0\n",
        "1997-11-26  3PT Field Goal    1.0\n",
        "2001-04-22  3PT Field Goal    1.0\n",
        "1998-02-24  3PT Field Goal    1.0\n",
        "2008-10-28  3PT Field Goal    1.0\n",
        "2008-11-12  3PT Field Goal    1.0\n",
        "1998-02-10  3PT Field Goal    1.0\n",
        "2001-11-20  3PT Field Goal    1.0\n",
        "2009-02-20  3PT Field Goal    1.0\n",
        "2009-04-12  2PT Field Goal    1.0\n",
        "1998-01-19  3PT Field Goal    1.0\n",
        "2001-10-30  3PT Field Goal    1.0\n",
        "2001-12-16  2PT Field Goal    1.0\n",
        "2009-05-21  3PT Field Goal    1.0\n",
        "1998-01-17  3PT Field Goal    1.0\n",
        "1998-01-06  3PT Field Goal    1.0\n",
        "2010-01-05  3PT Field Goal    1.0\n",
        "1998-01-02  3PT Field Goal    1.0\n",
        "2010-01-12  3PT Field Goal    1.0\n",
        "2001-05-13  3PT Field Goal    1.0\n",
        "2010-02-23  3PT Field Goal    1.0\n",
        "2010-03-24  3PT Field Goal    1.0\n",
        "2010-04-24  3PT Field Goal    1.0\n",
        "2001-06-15  3PT Field Goal    1.0\n",
        "2001-12-01  3PT Field Goal    1.0\n",
        "Name: shot_made_flag, dtype: float64"
       ]
      }
     ],
     "prompt_number": 26
    },
    {
     "cell_type": "code",
     "collapsed": false,
     "input": [
      "t"
     ],
     "language": "python",
     "metadata": {},
     "outputs": []
    }
   ],
   "metadata": {}
  }
 ]
}